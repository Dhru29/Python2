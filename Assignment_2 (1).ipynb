{
  "nbformat": 4,
  "nbformat_minor": 0,
  "metadata": {
    "colab": {
      "provenance": []
    },
    "kernelspec": {
      "name": "python3",
      "display_name": "Python 3"
    },
    "language_info": {
      "name": "python"
    }
  },
  "cells": [
    {
      "cell_type": "code",
      "execution_count": 9,
      "metadata": {
        "colab": {
          "base_uri": "https://localhost:8080/"
        },
        "id": "8i6vFq5wsFgk",
        "outputId": "ea388fb2-0e54-4542-fdb9-be6a7ea566ea"
      },
      "outputs": [
        {
          "output_type": "stream",
          "name": "stdout",
          "text": [
            "Vehicle: Dodge Charger, Max Speed: 280 km/h, Average Speed: 80 km/h\n",
            "Method from Parent 1\n",
            "Method from Parent 2\n"
          ]
        }
      ],
      "source": [
        "class Vehicle:\n",
        "    def __init__(self, name_of_vehicle, max_speed, average_of_vehicle):\n",
        "        self.name_of_vehicle = name_of_vehicle\n",
        "        self.max_speed = max_speed\n",
        "        self.average_of_vehicle = average_of_vehicle\n",
        "\n",
        "    def __str__(self):\n",
        "        return f\"Vehicle: {self.name_of_vehicle}, Max Speed: {self.max_speed} km/h, Average Speed: {self.average_of_vehicle} km/h\"\n",
        "\n",
        "car = Vehicle(\"Dodge Charger\", 280, 80)\n",
        "print(car)\n",
        "\n",
        "class Vehicle:\n",
        "    def __init__(self, name, max_speed):\n",
        "        self.name = name\n",
        "        self.max_speed = max_speed\n",
        "\n",
        "    def info(self):\n",
        "        return f\"Vehicle Name: {self.name}, Max Speed: {self.max_speed} km/h\"\n",
        "\n",
        "\n",
        "class Car(Vehicle):\n",
        "    def seating_capacity(self, capacity):\n",
        "        return f\"The {self.name} has a seating capacity of {capacity} passengers.\"\n",
        "\n",
        "class Parent1:\n",
        "    def method1(self):\n",
        "        return \"Method from Parent 1\"\n",
        "\n",
        "\n",
        "class Parent2:\n",
        "    def method2(self):\n",
        "        return \"Method from Parent 2\"\n",
        "\n",
        "\n",
        "class Child(Parent1, Parent2):\n",
        "    pass\n",
        "\n",
        "# Create an instance of Child\n",
        "child = Child()\n",
        "\n",
        "# Access methods from Parent1 and Parent2\n",
        "result1 = child.method1()\n",
        "result2 = child.method2()\n",
        "\n",
        "print(result1)  # Output: \"Method from Parent 1\"\n",
        "print(result2)  # Output: \"Method from Parent 2\"\n",
        "\n"
      ]
    },
    {
      "cell_type": "code",
      "source": [
        "\n",
        "class Person:\n",
        "    def __init__(self, name, age, gender):\n",
        "        self.__name = name\n",
        "        self.__age = age\n",
        "        self.__gender = gender\n",
        "\n",
        "    def say_hello(self):\n",
        "        print(f\"Hello, my name is {self.__name}.\")\n",
        "\n",
        "    def is_adult(self):\n",
        "        return self.__age >= 18\n",
        "\n",
        "    def get_age(self):\n",
        "        return self.__age\n",
        "\n",
        "    def get_name(self):\n",
        "        return self.__name\n",
        "\n",
        "\n",
        "class Student(Person):\n",
        "    def __init__(self, name, age, gender, student_id, course):\n",
        "        super().__init__(name, age, gender)\n",
        "        self.__student_id = student_id\n",
        "        self.__course = course\n",
        "\n",
        "    def get_student_info(self):\n",
        "        return f\"Student ID: {self.__student_id}, Course: {self.__course}\"\n",
        "\n",
        "\n",
        "class Teacher(Person):\n",
        "    def __init__(self, name, age, gender, teacher_id, subject):\n",
        "        super().__init__(name, age, gender)\n",
        "        self.__teacher_id = teacher_id\n",
        "        self.__subject = subject\n",
        "\n",
        "    def say_hello(self):\n",
        "        print(f\"Good day! I am {self.get_name()}, your {self.__subject} teacher.\")\n",
        "\n",
        "    def get_teacher_info(self):\n",
        "        return f\"Teacher ID: {self.__teacher_id}, Subject: {self.__subject}\"\n",
        "\n",
        "\n",
        "\n",
        "person = Person(\"Dhru Patel\", 25, \"Male\")\n",
        "person.say_hello()\n",
        "print(f\"Is adult: {person.is_adult()}\")\n",
        "print(f\"Age: {person.get_age()}\")\n",
        "\n",
        "\n",
        "student = Student(\"Dhru Patel\", 22, \"Male\", \"894121\", \"Python\")\n",
        "student.say_hello()\n",
        "print(student.get_student_info())\n",
        "print(f\"Is adult: {student.is_adult()}\")\n",
        "print(f\"Age: {student.get_age()}\")\n",
        "\n",
        "\n",
        "teacher = Teacher(\"Prof. Patel\", 35, \"Male\", \"007\", \"IT\")\n",
        "teacher.say_hello()\n",
        "print(teacher.get_teacher_info())\n",
        "print(f\"Is adult: {teacher.is_adult()}\")\n",
        "print(f\"Age: {teacher.get_age()}\")\n"
      ],
      "metadata": {
        "colab": {
          "base_uri": "https://localhost:8080/"
        },
        "id": "rqq2AjW90zgj",
        "outputId": "f018f283-029e-43f6-d0ac-8c241af4925e"
      },
      "execution_count": 8,
      "outputs": [
        {
          "output_type": "stream",
          "name": "stdout",
          "text": [
            "Hello, my name is Dhru Patel.\n",
            "Is adult: True\n",
            "Age: 25\n",
            "Hello, my name is Dhru Patel.\n",
            "Student ID: 894121, Course: Python\n",
            "Is adult: True\n",
            "Age: 22\n",
            "Good day! I am Prof. Patel, your IT teacher.\n",
            "Teacher ID: 007, Subject: IT\n",
            "Is adult: True\n",
            "Age: 35\n"
          ]
        }
      ]
    }
  ]
}